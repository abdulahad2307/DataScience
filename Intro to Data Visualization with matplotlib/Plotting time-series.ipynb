{
 "cells": [
  {
   "cell_type": "markdown",
   "metadata": {},
   "source": [
    "## Read data with a time index\n",
    "Pandas DataFrame objects can have an index that denotes time. This is useful because Matplotlib recognizes that these measurements represent time and labels the values on the axis accordingly.\n",
    "\n",
    "In this exercise, you will read data from a CSV file called climate_change.csv that contains measurements of CO2 levels and temperatures made on the 6th of every month from 1958 until 2016. You will use Pandas' read_csv function.\n",
    "\n",
    "To designate the index as a DateTimeIndex, you will use the parse_dates and index_col key-word arguments both to parse this column as a variable that contains dates and also to designate it as the index for this DataFrame.\n",
    "\n",
    "By the way, if you haven't downloaded it already, check out the Matplotlib Cheat Sheet. It includes an overview of the most important concepts, functions and methods and might come in handy if you ever need a quick refresher!\n",
    "\n",
    "Import the Pandas library as pd.\n",
    "Read in the data from a CSV file called 'climate_change.csv' using pd.read_csv.\n",
    "Use the parse_dates key-word argument to parse the \"date\" column as dates.\n",
    "Use the index_col key-word argument to set the \"date\" column as the index."
   ]
  },
  {
   "cell_type": "code",
   "execution_count": null,
   "metadata": {},
   "outputs": [],
   "source": [
    "# Import pandas as pd\n",
    "import pandas as pd\n",
    "\n",
    "# Read the data from file using read_csv\n",
    "climate_change = pd.read_csv('climate_change.csv', parse_dates = [\"date\"], index_col = \"date\" )"
   ]
  },
  {
   "cell_type": "markdown",
   "metadata": {},
   "source": [
    "## Plot time-series data\n",
    "To plot time-series data, we use the Axes object plot command. The first argument to this method are the values for the x-axis and the second argument are the values for the y-axis.\n",
    "\n",
    "This exercise provides data stored in a DataFrame called climate_change. This variable has a time-index with the dates of measurements and two data columns: \"co2\" and \"relative_temp\".\n",
    "\n",
    "In this case, the index of the DataFrame would be used as the x-axis values and we will plot the values stored in the \"relative_temp\" column as the y-axis values. We will also properly label the x-axis and y-axis.\n",
    "\n",
    "Add the data from climate_change to the plot: use the DataFrame index for the x value and the \"relative_temp\" column for the y values.\n",
    "Set the x-axis label to 'Time'.\n",
    "Set the y-axis label to 'Relative temperature (Celsius)'.\n",
    "Show the figure."
   ]
  },
  {
   "cell_type": "code",
   "execution_count": null,
   "metadata": {},
   "outputs": [],
   "source": [
    "import matplotlib.pyplot as plt\n",
    "fig, ax = plt.subplots()\n",
    "\n",
    "# Add the time-series for \"relative_temp\" to the plot\n",
    "ax.plot(climate_change.index, climate_change[\"relative_temp\"])\n",
    "\n",
    "# Set the x-axis label\n",
    "ax.set_xlabel('Time')\n",
    "\n",
    "# Set the y-axis label\n",
    "ax.set_ylabel('Relative temperature (Celsius)')\n",
    "\n",
    "# Show the figure\n",
    "plt.show()"
   ]
  },
  {
   "cell_type": "markdown",
   "metadata": {},
   "source": [
    "## Using a time index to zoom in\n",
    "When a time-series is represented with a time index, we can use this index for the x-axis when plotting. We can also select a to zoom in on a particular period within the time-series using Pandas' indexing facilities. In this exercise, you will select a portion of a time-series dataset and you will plot that period.\n",
    "\n",
    "The data to use is stored in a DataFrame called climate_change, which has a time-index with dates of measurements and two data columns: \"co2\" and \"relative_temp\".\n",
    "\n",
    "\n",
    "Use plt.subplots to create a Figure with one Axes called fig and ax, respectively.\n",
    "Create a variable called seventies that includes all the data between \"1970-01-01\" and \"1979-12-31\".\n",
    "Add the data from seventies to the plot: use the DataFrame index for the x value and the \"co2\" column for the y values."
   ]
  },
  {
   "cell_type": "code",
   "execution_count": null,
   "metadata": {},
   "outputs": [],
   "source": [
    "import matplotlib.pyplot as plt\n",
    "\n",
    "# Use plt.subplots to create fig and ax\n",
    "fig, ax = plt.subplots()\n",
    "\n",
    "# Create variable seventies with data from \"1970-01-01\" to \"1979-12-31\"\n",
    "seventies = climate_change[\"1970-01-01\":\"1979-12-31\"]\n",
    "\n",
    "# Add the time-series for \"co2\" data from seventies to the plot\n",
    "ax.plot(seventies.index, seventies[\"co2\"])\n",
    "\n",
    "# Show the figure\n",
    "plt.show()"
   ]
  },
  {
   "cell_type": "code",
   "execution_count": null,
   "metadata": {},
   "outputs": [],
   "source": []
  },
  {
   "cell_type": "code",
   "execution_count": null,
   "metadata": {},
   "outputs": [],
   "source": []
  }
 ],
 "metadata": {
  "kernelspec": {
   "display_name": "Python 3",
   "language": "python",
   "name": "python3"
  },
  "language_info": {
   "codemirror_mode": {
    "name": "ipython",
    "version": 3
   },
   "file_extension": ".py",
   "mimetype": "text/x-python",
   "name": "python",
   "nbconvert_exporter": "python",
   "pygments_lexer": "ipython3",
   "version": "3.7.1"
  }
 },
 "nbformat": 4,
 "nbformat_minor": 2
}
