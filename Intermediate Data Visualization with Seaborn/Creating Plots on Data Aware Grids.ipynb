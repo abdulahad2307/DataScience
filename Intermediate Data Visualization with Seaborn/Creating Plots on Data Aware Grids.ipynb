{
 "cells": [
  {
   "cell_type": "markdown",
   "metadata": {},
   "source": [
    "## Building a FacetGrid\n",
    "Seaborn's FacetGrid is the foundation for building data-aware grids. A data-aware grid allows you to create a series of small plots that can be useful for understanding complex data relationships.\n",
    "\n",
    "For these exercises, we will continue to look at the College Scorecard Data from the US Department of Education. This rich dataset has many interesting data elements that we can plot with Seaborn.\n",
    "\n",
    "When building a FacetGrid, there are two steps:\n",
    "\n",
    "Create a FacetGrid object with columns, rows, or hue.\n",
    "Map individual plots to the grid.\n",
    "\n",
    "1. Create a FacetGrid that shows a point plot of the Average SAT scores SAT_AVG_ALL.\n",
    "2. Use row_order to control the display order of the degree types."
   ]
  },
  {
   "cell_type": "code",
   "execution_count": null,
   "metadata": {},
   "outputs": [],
   "source": [
    "# Create FacetGrid with Degree_Type and specify the order of the rows using row_order\n",
    "g2 = sns.FacetGrid(df, \n",
    "             row=\"Degree_Type\",\n",
    "             row_order=['Graduate', 'Bachelors', 'Associates', 'Certificate'])\n",
    "\n",
    "# Map a pointplot of SAT_AVG_ALL onto the grid\n",
    "g2.map(sns.pointplot, 'SAT_AVG_ALL')\n",
    "\n",
    "# Show the plot\n",
    "plt.show()\n",
    "plt.clf()"
   ]
  },
  {
   "cell_type": "markdown",
   "metadata": {},
   "source": [
    "## Using a factorplot\n",
    "In many cases, Seaborn's factorplot() can be a simpler way to create a FacetGrid. Instead of creating a grid and mapping the plot, we can use the factorplot() to create a plot with one line of code.\n",
    "\n",
    "For this exercise, we will recreate one of the plots from the previous exercise using factorplot() and show how to create a boxplot on a data-aware grid.\n",
    "\n",
    "1. Create a factorplot() that contains a boxplot (box) of Tuition values varying by Degree_Type across rows.\n",
    "2. Create a factorplot() of SAT Averages (SAT_AVG_ALL) facetted across Degree_Type that shows a pointplot (point).\n",
    "   Use row_order to order the degrees from highest to lowest level."
   ]
  },
  {
   "cell_type": "code",
   "execution_count": null,
   "metadata": {},
   "outputs": [],
   "source": [
    "# Create a factor plot that contains boxplots of Tuition values\n",
    "sns.factorplot(data=df,\n",
    "         x='Tuition',\n",
    "         kind='box',\n",
    "         row='Degree_Type')\n",
    "\n",
    "plt.show()\n",
    "plt.clf()\n",
    "###################################################\n",
    "\n",
    "# Create a facetted pointplot of Average SAT_AVG_ALL scores facetted by Degree Type \n",
    "sns.factorplot(data=df,\n",
    "        x='SAT_AVG_ALL',\n",
    "        kind='point',\n",
    "        row='Degree_Type',\n",
    "        row_order=['Graduate', 'Bachelors', 'Associates', 'Certificate'])\n",
    "\n",
    "plt.show()\n",
    "plt.clf()"
   ]
  },
  {
   "cell_type": "markdown",
   "metadata": {},
   "source": [
    "## Using a lmplot\n",
    "The lmplot is used to plot scatter plots with regression lines on FacetGrid objects. The API is similar to factorplot with the difference that the default behavior of lmplot is to plot regression lines.\n",
    "\n",
    "For the first set of exercises, we will look at the Undergraduate population (UG) and compare it to the percentage of students receiving Pell Grants (PCTPELL).\n",
    "\n",
    "For the second lmplot exercise, we can look at the relationships between Average SAT scores and Tuition across the different degree types and public vs. non-profit schools.\n",
    "\n",
    "1. Create a FacetGrid() with \"Degree_Type\" columns and scatter plot of \"UG\" and \"PCTPELL\".\n",
    "2. Create a lmplot() using the same values from the FacetGrid().\n",
    "3. Create a facetted lmplot() comparing \"SATAVGALL\" to \"Tuition\" with columns varying by \"Ownership\" and rows by \"Degree_Type\".\n",
    "   In the lmplot() add a hue for Women Only Universities."
   ]
  },
  {
   "cell_type": "code",
   "execution_count": null,
   "metadata": {},
   "outputs": [],
   "source": [
    "# Create a FacetGrid varying by column and columns ordered with the degree_order variable\n",
    "g = sns.FacetGrid(df, col=\"Degree_Type\", col_order=degree_ord)\n",
    "\n",
    "# Map a scatter plot of Undergrad Population compared to PCTPELL\n",
    "g.map(plt.scatter, 'UG', 'PCTPELL')\n",
    "\n",
    "plt.show()\n",
    "plt.clf()\n",
    "####################################################################\n",
    "\n",
    "# Re-create the plot above as an lmplot\n",
    "sns.lmplot(data=df,\n",
    "        x='UG',\n",
    "        y='PCTPELL',\n",
    "        col=\"Degree_Type\",\n",
    "        col_order=degree_ord)\n",
    "\n",
    "plt.show()\n",
    "plt.clf()\n",
    "######################################################################\n",
    "\n",
    "# Create an lmplot that has a column for Ownership, a row for Degree_Type and hue based on the WOMENONLY column\n",
    "sns.lmplot(data=df,\n",
    "        x='SAT_AVG_ALL',\n",
    "        y='Tuition',\n",
    "        col=\"Ownership\",\n",
    "        row='Degree_Type',\n",
    "        row_order=['Graduate', 'Bachelors'],\n",
    "        hue='WOMENONLY',\n",
    "        col_order=inst_ord)\n",
    "\n",
    "plt.show()\n",
    "plt.clf()"
   ]
  },
  {
   "cell_type": "markdown",
   "metadata": {},
   "source": [
    "## Building a PairGrid\n",
    "When exploring a dataset, one of the earliest tasks is exploring the relationship between pairs of variables. This step is normally a precursor to additional investigation.\n",
    "\n",
    "Seaborn supports this pair-wise analysis using the PairGrid. In this exercise, we will look at the Car Insurance Premium data we analyzed in Chapter 1. All data is available in the df variable.\n",
    "\n",
    "\n",
    "1. Compare \"fatal_collisions\" to \"premiums\" by using a scatter plot mapped to a PairGrid().\n",
    "2. Create another PairGrid but plot a histogram on the diagonal and scatter plot on the off diagonal."
   ]
  },
  {
   "cell_type": "code",
   "execution_count": null,
   "metadata": {},
   "outputs": [],
   "source": [
    "# Create a PairGrid with a scatter plot for fatal_collisions and premiums\n",
    "g = sns.PairGrid(df, vars=[\"fatal_collisions\", \"premiums\"])\n",
    "g2 = g.map(plt.scatter)\n",
    "\n",
    "plt.show()\n",
    "plt.clf()\n",
    "#############################################################\n",
    "\n",
    "# Create the same PairGrid but map a histogram on the diag\n",
    "g = sns.PairGrid(df, vars=[\"fatal_collisions\", \"premiums\"])\n",
    "g2 = g.map_diag(plt.hist)\n",
    "g3 = g2.map_offdiag(plt.scatter)\n",
    "\n",
    "plt.show()\n",
    "plt.clf()"
   ]
  },
  {
   "cell_type": "markdown",
   "metadata": {},
   "source": [
    "## Using a pairplot\n",
    "The pairplot() function is generally a more convenient way to look at pairwise relationships. In this exercise, we will create the same results as the PairGrid using less code. Then, we will explore some additional functionality of the pairplot(). We will also use a different palette and adjust the transparency of the diagonal plots using the alpha parameter.\n",
    "\n",
    "\n",
    "1. Recreate the pairwise plot from the previous exercise using pairplot().\n",
    "2. Create another pairplot using the \"Region\" to color code the results.\n",
    "   Use the RdBu palette to change the colors of the plot."
   ]
  },
  {
   "cell_type": "code",
   "execution_count": null,
   "metadata": {},
   "outputs": [],
   "source": [
    "# Create a pairwise plot of the variables using a scatter plot\n",
    "sns.pairplot(data=df,\n",
    "        vars=[\"fatal_collisions\", \"premiums\"],\n",
    "        kind='scatter')\n",
    "\n",
    "plt.show()\n",
    "plt.clf()\n",
    "############################################################\n",
    "\n",
    "# Plot the same data but use a different color palette and color code by Region\n",
    "sns.pairplot(data=df,\n",
    "        vars=[\"fatal_collisions\", \"premiums\"],\n",
    "        kind='scatter',\n",
    "        hue='Region',\n",
    "        palette='RdBu',\n",
    "        diag_kws={'alpha':.5})\n",
    "\n",
    "plt.show()\n",
    "plt.clf()"
   ]
  },
  {
   "cell_type": "markdown",
   "metadata": {},
   "source": [
    "## Additional pairplots\n",
    "This exercise will go through a couple of more examples of how the pairplot() can be customized for quickly analyzing data and determining areas of interest that might be worthy of additional analysis.\n",
    "\n",
    "One area of customization that is useful is to explicitly define the x_vars and y_vars that you wish to examine. Instead of examining all pairwise relationships, this capability allows you to look only at the specific interactions that may be of interest.\n",
    "\n",
    "We have already looked at using kind to control the types of plots. We can also use diag_kind to control the types of plots shown on the diagonals. In the final example, we will include a regression and kde plot in the pairplot.\n",
    "\n",
    "1. Create a pair plot that examines fatal_collisions_speeding and fatal_collisions_alc on the x axis and premiums and insurance_losses on the y axis.\n",
    "    Use the husl palette and color code the scatter plot by Region.\n",
    "2. Build a pairplot() with kde plots along the diagonals. Include the insurance_losses and premiums as the variables.\n",
    "    Use a reg plot for the the non-diagonal plots.\n",
    "    Use the BrBG palette for the final plot."
   ]
  },
  {
   "cell_type": "code",
   "execution_count": null,
   "metadata": {},
   "outputs": [],
   "source": [
    "# Build a pairplot with different x and y variables\n",
    "sns.pairplot(data=df,\n",
    "        x_vars=[\"fatal_collisions_speeding\", \"fatal_collisions_alc\"],\n",
    "        y_vars=['premiums', 'insurance_losses'],\n",
    "        kind='scatter',\n",
    "        hue='Region',\n",
    "        palette='husl')\n",
    "\n",
    "plt.show()\n",
    "plt.clf()\n",
    "#####################################################\n",
    "\n",
    "# plot relationships between insurance_losses and premiums\n",
    "sns.pairplot(data=df,\n",
    "             vars=[\"insurance_losses\", \"premiums\"],\n",
    "             kind='reg',\n",
    "             palette='BrBG',\n",
    "             diag_kind = 'kde',\n",
    "             hue='Region')\n",
    "\n",
    "plt.show()\n",
    "plt.clf()"
   ]
  },
  {
   "cell_type": "markdown",
   "metadata": {},
   "source": [
    "## Building a JointGrid and jointplot\n",
    "Seaborn's JointGrid combines univariate plots such as histograms, rug plots and kde plots with bivariate plots such as scatter and regression plots. The process for creating these plots should be familiar to you now. These plots also demonstrate how Seaborn provides convenient functions to combine multiple plots together.\n",
    "\n",
    "For these exercises, we will use the bike share data that we reviewed earlier. In this exercise, we will look at the relationship between humidity levels and total rentals to see if there is an interesting relationship we might want to explore later.\n",
    "\n",
    "1. Use Seaborn's \"whitegrid\" style for these plots.\n",
    "    Create a JointGrid() with \"hum\" on the x-axis and \"total_rentals\" on the y.\n",
    "    Plot a regplot() and distplot() on the margins."
   ]
  },
  {
   "cell_type": "code",
   "execution_count": null,
   "metadata": {},
   "outputs": [],
   "source": [
    "# Build a JointGrid comparing humidity and total_rentals\n",
    "sns.set_style(\"whitegrid\")\n",
    "g = sns.JointGrid(x=\"hum\",\n",
    "            y=\"total_rentals\",\n",
    "            data=df,\n",
    "            xlim=(0.1, 1.0)) \n",
    "\n",
    "g.plot(sns.regplot, sns.distplot)\n",
    "\n",
    "plt.show()\n",
    "plt.clf()\n",
    "########################################################\n",
    "\n",
    "# Create a jointplot similar to the JointGrid \n",
    "sns.jointplot(x=\"hum\",\n",
    "        y=\"total_rentals\",\n",
    "        kind='reg',\n",
    "        data=df)\n",
    "\n",
    "plt.show()\n",
    "plt.clf()"
   ]
  },
  {
   "cell_type": "markdown",
   "metadata": {},
   "source": [
    "## Jointplots and regression\n",
    "Since the previous plot does not show a relationship between humidity and rental amounts, we can look at another variable that we reviewed earlier. Specifically, the relationship between temp and total_rentals.\n",
    "\n",
    "1. Create a jointplot with a 2nd order polynomial regression plot comparing temp and total_rentals.\n",
    "2. Use a residual plot to check the appropriateness of the model."
   ]
  },
  {
   "cell_type": "code",
   "execution_count": null,
   "metadata": {},
   "outputs": [],
   "source": [
    "# Plot temp vs. total_rentals as a regression plot\n",
    "sns.jointplot(x=\"temp\",\n",
    "         y=\"total_rentals\",\n",
    "         kind='reg',\n",
    "         data=df,\n",
    "         order=2,\n",
    "         xlim=(0, 1))\n",
    "\n",
    "plt.show()\n",
    "plt.clf()\n",
    "####################################################\n",
    "\n",
    "# Plot a jointplot showing the residuals\n",
    "sns.jointplot(x=\"temp\",\n",
    "        y=\"total_rentals\",\n",
    "        kind='resid',\n",
    "        data=df,\n",
    "        order=2)\n",
    "\n",
    "plt.show()\n",
    "plt.clf()"
   ]
  },
  {
   "cell_type": "markdown",
   "metadata": {},
   "source": [
    "## Complex jointplots\n",
    "The jointplot is a convenience wrapper around many of the JointGrid functions. However, it is possible to overlay some of the JointGrid plots on top of the standard jointplot. In this example, we can look at the different distributions for riders that are considered casual versus those that are registered.\n",
    "\n",
    "1. Create a jointplot with a scatter plot comparing temp and casual riders.\n",
    "    Overlay a kdeplot on top of the scatter plot.\n",
    "2. Build a similar plot for registered users."
   ]
  },
  {
   "cell_type": "code",
   "execution_count": null,
   "metadata": {},
   "outputs": [],
   "source": [
    "# Create a jointplot of temp vs. casual riders\n",
    "# Include a kdeplot over the scatter plot\n",
    "g = (sns.jointplot(x=\"temp\",\n",
    "             y=\"casual\",\n",
    "             kind='scatter',\n",
    "             data=df,\n",
    "             marginal_kws=dict(bins=10, rug=True))\n",
    "    .plot_joint(sns.kdeplot))\n",
    "    \n",
    "plt.show()\n",
    "plt.clf()\n",
    "###################################################\n",
    "\n",
    "# Replicate the above plot but only for registered riders\n",
    "g = (sns.jointplot(x=\"temp\",\n",
    "             y=\"registered\",\n",
    "             kind='scatter',\n",
    "             data=df,\n",
    "             marginal_kws=dict(bins=10, rug=True))\n",
    "    .plot_joint(sns.kdeplot))\n",
    "\n",
    "plt.show()\n",
    "plt.clf()"
   ]
  }
 ],
 "metadata": {
  "kernelspec": {
   "display_name": "Python 3",
   "language": "python",
   "name": "python3"
  },
  "language_info": {
   "codemirror_mode": {
    "name": "ipython",
    "version": 3
   },
   "file_extension": ".py",
   "mimetype": "text/x-python",
   "name": "python",
   "nbconvert_exporter": "python",
   "pygments_lexer": "ipython3",
   "version": "3.7.1"
  }
 },
 "nbformat": 4,
 "nbformat_minor": 2
}
