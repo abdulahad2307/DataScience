{
 "cells": [
  {
   "cell_type": "markdown",
   "metadata": {},
   "source": [
    "## stripplot() and swarmplot()\n",
    "Many datasets have categorical data and Seaborn supports several useful plot types for this data. In this example, we will continue to look at the 2010 School Improvement data and segment the data by the types of school improvement models used.\n",
    "\n",
    "As a refresher, here is the KDE distribution of the Award Amounts:\n",
    "\n",
    "While this plot is useful, there is a lot more we can learn by looking at the individual Award_Amounts and how they are distributed among the 4 categories.\n",
    "\n",
    "1. Create a stripplot of the Award_Amount with the Model Selected on the y axis with jitter enabled.\n",
    "2. Create a swarmplot() of the same data, but also include the hue by Region."
   ]
  },
  {
   "cell_type": "code",
   "execution_count": null,
   "metadata": {},
   "outputs": [],
   "source": [
    "# Create the stripplot\n",
    "sns.stripplot(data=df,\n",
    "         x='Award_Amount',\n",
    "         y='Model Selected',\n",
    "         jitter=True)\n",
    "\n",
    "plt.show()\n",
    "################################\n",
    "\n",
    "# Create and display a swarmplot with hue set to the Region\n",
    "sns.swarmplot(data=df,\n",
    "         x='Award_Amount',\n",
    "         y='Model Selected',\n",
    "         hue='Region')\n",
    "\n",
    "plt.show()"
   ]
  },
  {
   "cell_type": "markdown",
   "metadata": {},
   "source": [
    "## boxplots, violinplots and lvplots\n",
    "Seaborn's categorical plots also support several abstract representations of data. The API for each of these is the same so it is very convenient to try each plot and see if the data lends itself to one over the other.\n",
    "\n",
    "In this exercise, we will use the color palette options presented in Chapter 2 to show how colors can easily be included in the plots.\n",
    "\n",
    "1. Create and display a boxplot of the data with Award_Amount on the x axis and Model Selected on the y axis.\n",
    "2. Create and display a similar violinplot of the data, but use the husl palette for colors.\n",
    "3. Create and display an lvplot using the Paired palette and the Region column as the hue.\n"
   ]
  },
  {
   "cell_type": "code",
   "execution_count": null,
   "metadata": {},
   "outputs": [],
   "source": [
    "# Create a boxplot\n",
    "sns.boxplot(data=df,\n",
    "         x='Award_Amount',\n",
    "         y='Model Selected')\n",
    "\n",
    "plt.show()\n",
    "plt.clf()\n",
    "################################\n",
    "\n",
    "# Create a violinplot with the husl palette\n",
    "sns.violinplot(data=df,\n",
    "         x='Award_Amount',\n",
    "         y='Model Selected',\n",
    "         palette='husl')\n",
    "\n",
    "plt.show()\n",
    "plt.clf()\n",
    "###############################\n",
    "\n",
    "# Create a lvplot with the Paired palette and the Region column as the hue\n",
    "sns.lvplot(data=df,\n",
    "         x='Award_Amount',\n",
    "         y='Model Selected',\n",
    "         palette='Paired',\n",
    "         hue='Region')\n",
    "\n",
    "plt.show()\n",
    "plt.clf()\n"
   ]
  },
  {
   "cell_type": "markdown",
   "metadata": {},
   "source": [
    "## barplots, pointplots and countplots\n",
    "The final group of categorical plots are barplots, pointplots and countplot which create statistical summaries of the data. The plots follow a similar API as the other plots and allow further customization for the specific problem at hand.\n",
    "\n",
    "1.  Create a countplot with the df dataframe and Model Selected on the y axis and the color varying by Region.\n",
    "2. Create a pointplot with the df dataframe and Model Selected on the x-axis and Award_Amount on the y-axis.\n",
    "   Use a capsize in the pointplot in order to show the confidence interval.\n",
    "3. Create a barplot with the same data on the x and y axis and change the color of each bar based on the Region column.\n"
   ]
  },
  {
   "cell_type": "code",
   "execution_count": null,
   "metadata": {},
   "outputs": [],
   "source": [
    "# Show a countplot with the number of models used with each region a different color\n",
    "sns.countplot(data=df,\n",
    "         y=\"Model Selected\",\n",
    "         hue=\"Region\")\n",
    "\n",
    "plt.show()\n",
    "plt.clf()\n",
    "##############################################\n",
    "\n",
    "# Create a pointplot and include the capsize in order to show bars on the confidence interval\n",
    "sns.pointplot(data=df,\n",
    "         y='Award_Amount',\n",
    "         x='Model Selected',\n",
    "         capsize=.1)\n",
    "\n",
    "plt.show()\n",
    "plt.clf()\n",
    "#################################################\n",
    "\n",
    "# Create a barplot with each Region shown as a different color\n",
    "sns.barplot(data=df,\n",
    "         y='Award_Amount',\n",
    "         x='Model Selected',\n",
    "         hue='Region')\n",
    "\n",
    "plt.show()\n",
    "plt.clf()\n"
   ]
  },
  {
   "cell_type": "markdown",
   "metadata": {},
   "source": [
    "## Regression and residual plots\n",
    "Linear regression is a useful tool for understanding the relationship between numerical variables. Seaborn has simple but powerful tools for examining these relationships.\n",
    "\n",
    "For these exercises, we will look at some details from the US Department of Education on 4 year college tuition information and see if there are any interesting insights into which variables might help predict tuition costs.\n",
    "\n",
    "For these exercises, all data is loaded in the df variable.\n",
    "\n",
    "1. Plot a regression plot comparing Tuition and average SAT scores(SAT_AVG_ALL).\n",
    "   Make sure the values are shown as green triangles.\n",
    "2. Use a residual plot to determine if the relationship looks linear.\n"
   ]
  },
  {
   "cell_type": "code",
   "execution_count": null,
   "metadata": {},
   "outputs": [],
   "source": [
    "# Display a regression plot for Tuition\n",
    "sns.regplot(data=df,\n",
    "         y='Tuition',\n",
    "         x=\"SAT_AVG_ALL\",\n",
    "         marker='^',\n",
    "         color='g')\n",
    "\n",
    "plt.show()\n",
    "plt.clf()\n",
    "#######################################\n",
    "\n",
    "# Display the residual plot\n",
    "sns.residplot(data=df,\n",
    "          y='Tuition',\n",
    "          x=\"SAT_AVG_ALL\",\n",
    "          color='g')\n",
    "\n",
    "plt.show()\n",
    "plt.clf()\n"
   ]
  },
  {
   "cell_type": "markdown",
   "metadata": {},
   "source": [
    "## Regression plot parameters\n",
    "Seaborn's regression plot supports several parameters that can be used to configure the plots and drive more insight into the data.\n",
    "\n",
    "For the next exercise, we can look at the relationship between tuition and the percent of students that receive Pell grants. A Pell grant is based on student financial need and subsidized by the US Government. In this data set, each University has some percentage of students that receive these grants. Since this data is continuous, using x_bins can be useful to break the percentages into categories in order to summarize and understand the data.\n",
    "\n",
    "1. Plot a regression plot of Tuition and PCTPELL.\n",
    "2. Create another plot that breaks the PCTPELL column into 5 different bins.\n",
    "3. Create a final regression plot that includes a 2nd order polynomial regression line.\n"
   ]
  },
  {
   "cell_type": "code",
   "execution_count": null,
   "metadata": {},
   "outputs": [],
   "source": [
    "# Plot a regression plot of Tuition and the Percentage of Pell Grants\n",
    "sns.regplot(data=df,\n",
    "            y='Tuition',\n",
    "            x=\"PCTPELL\")\n",
    "\n",
    "plt.show()\n",
    "plt.clf()\n",
    "#########################################################\n",
    "\n",
    "# Create another plot that estimates the tuition by PCTPELL\n",
    "sns.regplot(data=df,\n",
    "            y='Tuition',\n",
    "            x=\"PCTPELL\",\n",
    "            x_bins=5)\n",
    "\n",
    "plt.show()\n",
    "plt.clf()\n",
    "#########################################################\n",
    "\n",
    "# The final plot should include a line using a 2nd order polynomial\n",
    "sns.regplot(data=df,\n",
    "            y='Tuition',\n",
    "            x=\"PCTPELL\",\n",
    "            x_bins=5,\n",
    "            order=2)\n",
    "\n",
    "plt.show()\n",
    "plt.clf()\n"
   ]
  },
  {
   "cell_type": "markdown",
   "metadata": {},
   "source": [
    "## Binning data\n",
    "When the data on the x axis is a continuous value, it can be useful to break it into different bins in order to get a better visualization of the changes in the data.\n",
    "\n",
    "For this exercise, we will look at the relationship between tuition and the Undergraduate population abbreviated as UG in this data. We will start by looking at a scatter plot of the data and examining the impact of different bin sizes on the visualization.\n",
    "\n",
    "1. Create a regplot of Tuition and UG and set the fit_reg parameter to False to disable the regression line.\n",
    "2. Create another plot with the UG data divided into 5 bins.\n",
    "3. Create a regplot() with the data divided into 8 bins."
   ]
  },
  {
   "cell_type": "code",
   "execution_count": null,
   "metadata": {},
   "outputs": [],
   "source": [
    "# Create a scatter plot by disabling the regression line\n",
    "sns.regplot(data=df,\n",
    "            y='Tuition',\n",
    "            x=\"UG\",\n",
    "            fit_reg=False)\n",
    "\n",
    "plt.show()\n",
    "plt.clf()\n",
    "############################################################\n",
    "\n",
    "# Create a scatter plot and bin the data into 5 bins\n",
    "sns.regplot(data=df,\n",
    "            y='Tuition',\n",
    "            x=\"UG\",\n",
    "            x_bins=5)\n",
    "\n",
    "plt.show()\n",
    "plt.clf()\n",
    "############################################################\n",
    "\n",
    "# Create a regplot and bin the data into 8 bins\n",
    "sns.regplot(data=df,\n",
    "         y='Tuition',\n",
    "         x=\"UG\",\n",
    "         x_bins=8)\n",
    "\n",
    "plt.show()\n",
    "plt.clf()"
   ]
  },
  {
   "cell_type": "markdown",
   "metadata": {},
   "source": [
    "## Creating heatmaps\n",
    "A heatmap is a common matrix plot that can be used to graphically summarize the relationship between two variables. For this exercise, we will start by looking at guests of the Daily Show from 1999 - 2015 and see how the occupations of the guests have changed over time.\n",
    "\n",
    "The data includes the date of each guest appearance as well as their occupation. For the first exercise, we need to get the data into the right format for Seaborn's heatmap function to correctly plot the data. All of the data has already been read into the df variable.\n",
    "\n",
    "1. Use pandas' crosstab() function to build a table of visits by Group and Year.\n",
    "2. Print the pd_crosstab DataFrame.\n",
    "3. Plot the data using Seaborn's heatmap()."
   ]
  },
  {
   "cell_type": "code",
   "execution_count": null,
   "metadata": {},
   "outputs": [],
   "source": [
    "# Create a crosstab table of the data\n",
    "pd_crosstab = pd.crosstab(df[\"Group\"], df[\"YEAR\"])\n",
    "print(pd_crosstab)\n",
    "\n",
    "# Plot a heatmap of the table\n",
    "sns.heatmap(pd_crosstab)\n",
    "\n",
    "# Rotate tick marks for visibility\n",
    "plt.yticks(rotation=0)\n",
    "plt.xticks(rotation=90)\n",
    "\n",
    "plt.show()"
   ]
  },
  {
   "cell_type": "markdown",
   "metadata": {},
   "source": [
    "## Customizing heatmaps\n",
    "Seaborn supports several types of additional customizations to improve the output of a heatmap. For this exercise, we will continue to use the Daily Show data that is stored in the df variable but we will customize the output.\n",
    "\n",
    "1. Create a crosstab table of Group and YEAR\n",
    "2. Create a heatmap of the data using the BuGn palette\n",
    "3. Disable the cbar and increase the linewidth to 0.3\n"
   ]
  },
  {
   "cell_type": "code",
   "execution_count": null,
   "metadata": {},
   "outputs": [],
   "source": [
    "# Create the crosstab DataFrame\n",
    "pd_crosstab = pd.crosstab(df[\"Group\"], df[\"YEAR\"])\n",
    "\n",
    "# Plot a heatmap of the table with no color bar and using the BuGn palette\n",
    "sns.heatmap(pd_crosstab, cbar=False, cmap=\"BuGn\", linewidths=0.3)\n",
    "\n",
    "# Rotate tick marks for visibility\n",
    "plt.yticks(rotation=0)\n",
    "plt.xticks(rotation=90)\n",
    "\n",
    "#Show the plot\n",
    "plt.show()\n",
    "plt.clf()"
   ]
  }
 ],
 "metadata": {
  "kernelspec": {
   "display_name": "Python 3",
   "language": "python",
   "name": "python3"
  },
  "language_info": {
   "codemirror_mode": {
    "name": "ipython",
    "version": 3
   },
   "file_extension": ".py",
   "mimetype": "text/x-python",
   "name": "python",
   "nbconvert_exporter": "python",
   "pygments_lexer": "ipython3",
   "version": "3.7.1"
  }
 },
 "nbformat": 4,
 "nbformat_minor": 2
}
