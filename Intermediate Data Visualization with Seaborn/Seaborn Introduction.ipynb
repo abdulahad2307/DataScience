{
 "cells": [
  {
   "cell_type": "markdown",
   "metadata": {},
   "source": [
    "## Reading a csv file\n",
    "Before you analyze data, you will need to read the data into a pandas DataFrame. In this exercise, you will be looking at data from US School Improvement Grants in 2010. This program gave nearly $4B to schools to help them renovate or improve their programs.\n",
    "\n",
    "This first step in most data analysis is to import pandas and seaborn and read a data file in order to analyze it further.\n",
    "\n",
    "This course introduces a lot of new concepts, so if you ever need a quick refresher, download the Seaborn Cheat Sheet and keep it handy!\n",
    "\n",
    "1. Import pandas and seaborn using the standard naming conventions.\n",
    "2. The path to the csv file is stored in the grant_file variable.\n",
    "3. Use pandas to read the file.\n",
    "4. Store the resulting DataFrame in the variable df."
   ]
  },
  {
   "cell_type": "code",
   "execution_count": null,
   "metadata": {},
   "outputs": [],
   "source": [
    "# import all modules\n",
    "import pandas as pd\n",
    "import seaborn as sns\n",
    "import matplotlib.pyplot as plt\n",
    "\n",
    "# Read in the DataFrame\n",
    "df = pd.read_csv(grant_file)"
   ]
  },
  {
   "cell_type": "markdown",
   "metadata": {},
   "source": [
    "## Comparing a histogram and distplot\n",
    "The pandas library supports simple plotting of data, which is very convenient when data is already likely to be in a pandas DataFrame.\n",
    "\n",
    "Seaborn generally does more statistical analysis on data and can provide more sophisticated insight into the data. In this exercise, we will compare a pandas histogram vs the seaborn distplot.\n",
    "\n",
    "1. Use the pandas' plot.hist() function to plot a histogram of the Award_Amount column.\n",
    "2. Use Seaborn's distplot() function to plot a distribution plot of the same column.\n"
   ]
  },
  {
   "cell_type": "code",
   "execution_count": null,
   "metadata": {},
   "outputs": [],
   "source": [
    "# Display pandas histogram\n",
    "df['Award_Amount'].plot.hist()\n",
    "plt.show()\n",
    "\n",
    "# Clear out the pandas histogram\n",
    "plt.clf()\n",
    "\n",
    "\n",
    "# Display a Seaborn distplot\n",
    "sns.distplot(df['Award_Amount'])\n",
    "plt.show()\n",
    "\n",
    "# Clear the distplot\n",
    "plt.clf()"
   ]
  },
  {
   "cell_type": "markdown",
   "metadata": {},
   "source": [
    "## Plot a histogram\n",
    "The distplot() function will return a Kernel Density Estimate (KDE) by default. The KDE helps to smooth the distribution and is a useful way to look at the data. However, Seaborn can also support the more standard histogram approach if that is more meaningful for your analysis.\n",
    "\n",
    "1. Create a distplot for the data and disable the KDE.\n",
    "2. Explicitly pass in the number 20 for the number of bins in the histogram.\n",
    "3. Display the plot using plt.show()."
   ]
  },
  {
   "cell_type": "code",
   "execution_count": null,
   "metadata": {},
   "outputs": [],
   "source": [
    "# Create a distplot\n",
    "sns.distplot(df['Award_Amount'],\n",
    "             kde=False,\n",
    "             bins=20)\n",
    "\n",
    "# Display the plot\n",
    "plt.show()"
   ]
  },
  {
   "cell_type": "markdown",
   "metadata": {},
   "source": [
    "## Rug plot and kde shading\n",
    "Now that you understand some function arguments for distplot(), we can continue further refining the output. This process of creating a visualization and updating it in an incremental fashion is a useful and common approach to look at data from multiple perspectives.\n",
    "\n",
    "Seaborn excels at making this process simple.\n",
    "\n",
    "1. Create a distplot of the Award_Amount column in the df.\n",
    "2. Configure it to show a shaded kde (using the kde_kws dictionary).\n",
    "3. Add a rug plot above the x axis.\n",
    "4. Display the plot."
   ]
  },
  {
   "cell_type": "code",
   "execution_count": null,
   "metadata": {},
   "outputs": [],
   "source": [
    "# Create a distplot of the Award Amount\n",
    "sns.distplot(df['Award_Amount'],\n",
    "             hist=False,\n",
    "             rug=True,\n",
    "             kde_kws={'shade':True})\n",
    "\n",
    "# Plot the results\n",
    "plt.show()"
   ]
  },
  {
   "cell_type": "markdown",
   "metadata": {},
   "source": [
    "## Create a regression plot\n",
    "For this set of exercises, we will be looking at FiveThirtyEight's data on which US State has the worst drivers. The data set includes summary level information about fatal accidents as well as insurance premiums for each state as of 2010.\n",
    "\n",
    "In this exercise, we will look at the difference between the regression plotting functions.\n",
    "\n",
    "1. The data is available in the dataframe called df.\n",
    "2. Create a regression plot using regplot() with \"insurance_losses\" on the x axis and \"premiums\" on the y axis.\n",
    "\n",
    "3. Create a regression plot of \"premiums\" versus \"insurance_losses\" using lmplot().\n",
    "4. Display the plot."
   ]
  },
  {
   "cell_type": "code",
   "execution_count": null,
   "metadata": {},
   "outputs": [],
   "source": [
    "# Create a regression plot of premiums vs. insurance_losses\n",
    "sns.regplot(x = \"insurance_losses\", y = \"premiums\", data = df)\n",
    "\n",
    "# Display the plot\n",
    "plt.show()\n",
    "\n",
    "\n",
    "# Create an lmplot of premiums vs. insurance_losses\n",
    "sns.lmplot(x =\"insurance_losses\", y = \"premiums\", data =df)\n",
    "\n",
    "# Display the second plot\n",
    "plt.show()"
   ]
  },
  {
   "cell_type": "markdown",
   "metadata": {},
   "source": [
    "## Plotting multiple variables\n",
    "Since we are using lmplot() now, we can look at the more complex interactions of data. This data set includes geographic information by state and area. It might be interesting to see if there is a difference in relationships based on the Region of the country.\n",
    "\n",
    "1. Use lmplot() to look at the relationship between insurance_losses and premiums.\n",
    "2. Plot a regression line for each Region of the country."
   ]
  },
  {
   "cell_type": "code",
   "execution_count": null,
   "metadata": {},
   "outputs": [],
   "source": [
    "# Create a regression plot using hue\n",
    "sns.lmplot(data=df,\n",
    "           x=\"insurance_losses\",\n",
    "           y=\"premiums\",\n",
    "           hue=\"Region\")\n",
    "\n",
    "# Show the results\n",
    "plt.show()"
   ]
  },
  {
   "cell_type": "markdown",
   "metadata": {},
   "source": [
    "## Facetting multiple regressions\n",
    "lmplot() allows us to facet the data across multiple rows and columns. In the previous plot, the multiple lines were difficult to read in one plot. We can try creating multiple plots by Region to see if that is a more useful visualization.\n",
    "\n",
    "1. Use lmplot() to look at the relationship between insurance_losses and premiums.\n",
    "2. Create a plot for each Region of the country.\n",
    "3. Display the plots across multiple rows."
   ]
  },
  {
   "cell_type": "code",
   "execution_count": null,
   "metadata": {},
   "outputs": [],
   "source": [
    "# Create a regression plot with multiple rows\n",
    "sns.lmplot(data=df,\n",
    "           x=\"insurance_losses\",\n",
    "           y=\"premiums\",\n",
    "           row=\"Region\")\n",
    "\n",
    "# Show the plot\n",
    "plt.show()"
   ]
  }
 ],
 "metadata": {
  "kernelspec": {
   "display_name": "Python 3",
   "language": "python",
   "name": "python3"
  },
  "language_info": {
   "codemirror_mode": {
    "name": "ipython",
    "version": 3
   },
   "file_extension": ".py",
   "mimetype": "text/x-python",
   "name": "python",
   "nbconvert_exporter": "python",
   "pygments_lexer": "ipython3",
   "version": "3.7.1"
  }
 },
 "nbformat": 4,
 "nbformat_minor": 2
}
