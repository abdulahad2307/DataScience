{
 "cells": [
  {
   "cell_type": "markdown",
   "metadata": {},
   "source": [
    "## Setting the default style\n",
    "For these exercises, we will be looking at fair market rent values calculated by the US Housing and Urban Development Department. This data is used to calculate guidelines for several federal programs. The actual values for rents vary greatly across the US. We can use this data to get some experience with configuring Seaborn plots.\n",
    "\n",
    "All of the necessary imports for seaborn, pandas and matplotlib have been completed. The data is stored in the pandas DataFrame df.\n",
    "\n",
    "By the way, if you haven't downloaded it already, check out the Seaborn Cheat Sheet. It includes an overview of the most important concepts, functions and methods and might come in handy if you ever need a quick refresher!\n",
    "\n",
    "1. Plot a pandas histogram without adjusting the style.\n",
    "2. Set Seaborn's default style.\n",
    "3. Create another pandas histogram of the fmr_2 column which represents fair market rent for a 2-bedroom apartment.\n"
   ]
  },
  {
   "cell_type": "code",
   "execution_count": null,
   "metadata": {},
   "outputs": [],
   "source": [
    "# Plot the pandas histogram\n",
    "df['fmr_2'].plot.hist()\n",
    "plt.show()\n",
    "plt.clf()\n",
    "\n",
    "# Set the default seaborn style\n",
    "sns.set()\n",
    "\n",
    "# Plot the pandas histogram again\n",
    "df['fmr_2'].plot.hist()\n",
    "plt.show()\n",
    "plt.clf()"
   ]
  },
  {
   "cell_type": "markdown",
   "metadata": {},
   "source": [
    "## Comparing styles\n",
    "Seaborn supports setting different styles that can control the aesthetics of the final plot. In this exercise, you will plot the same data in two different styles in order to see how the styles change the output.\n",
    "\n",
    "1. Create a distplot() of the fmr_2 column in df using a dark style. Use plt.clf() to clear the figure.\n",
    "2. Create the same distplot() of fmr_2 using a whitegrid style. Clear the plot after showing it."
   ]
  },
  {
   "cell_type": "code",
   "execution_count": null,
   "metadata": {},
   "outputs": [],
   "source": [
    "sns.set_style('dark')\n",
    "sns.distplot(df['fmr_2'])\n",
    "plt.show()\n",
    "plt.clf()\n",
    "\n",
    "#####################################################\n",
    "\n",
    "sns.set_style('whitegrid')\n",
    "sns.distplot(df['fmr_2'])\n",
    "plt.show()\n",
    "plt.clf()\n"
   ]
  },
  {
   "cell_type": "markdown",
   "metadata": {},
   "source": [
    "## Removing spines\n",
    "In general, visualizations should minimize extraneous markings so that the data speaks for itself. Seaborn allows you to remove the lines on the top, bottom, left and right axis, which are often called spines.\n",
    "\n",
    "1. Use a white style for the plot.\n",
    "2. Create a lmplot() comparing the pop2010 and the fmr_2 columns.\n",
    "3. Remove the top and right spines using despine()."
   ]
  },
  {
   "cell_type": "code",
   "execution_count": null,
   "metadata": {},
   "outputs": [],
   "source": [
    "# Create a regression plot\n",
    "sns.lmplot(data=df,\n",
    "           x='pop2010',\n",
    "           y='fmr_2')\n",
    "\n",
    "# Remove the spines\n",
    "sns.despine(right=True)\n",
    "\n",
    "# Show the plot and clear the figure\n",
    "plt.show()\n",
    "plt.clf()"
   ]
  },
  {
   "cell_type": "markdown",
   "metadata": {},
   "source": [
    "## Matplotlib color codes\n",
    "Seaborn offers several options for modifying the colors of your visualizations. The simplest approach is to explicitly state the color of the plot. A quick way to change colors is to use the standard matplotlib color codes.\n",
    "\n",
    "1. Set the default Seaborn style and enable the matplotlib color codes.\n",
    "2. Create a distplot for the fmr_3 column using matplotlib's magenta (m) color code.\n"
   ]
  },
  {
   "cell_type": "code",
   "execution_count": null,
   "metadata": {},
   "outputs": [],
   "source": [
    "# Set style, enable color code, and create a magenta distplot\n",
    "sns.set(color_codes=True)\n",
    "sns.distplot(df['fmr_3'], color='m')\n",
    "\n",
    "# Show the plot\n",
    "plt.show()"
   ]
  },
  {
   "cell_type": "markdown",
   "metadata": {},
   "source": [
    "## Using default palettes\n",
    "Seaborn includes several default palettes that can be easily applied to your plots. In this example, we will look at the impact of two different palettes on the same distplot.\n",
    "\n",
    "1. Create a for loop to show the difference between the bright and colorblind palette.\n",
    "2. Set the palette using the set_palette() function.\n",
    "3. Use a distplot of the fmr_3 column."
   ]
  },
  {
   "cell_type": "code",
   "execution_count": null,
   "metadata": {},
   "outputs": [],
   "source": [
    "# Loop through differences between bright and colorblind palettes\n",
    "for p in ['bright', 'colorblind']:\n",
    "    sns.set_palette(p)\n",
    "    sns.distplot(df['fmr_3'])\n",
    "    plt.show()\n",
    "    \n",
    "    # Clear the plots    \n",
    "    plt.clf()"
   ]
  },
  {
   "cell_type": "markdown",
   "metadata": {},
   "source": [
    "## Creating Custom Palettes\n",
    "Choosing a cohesive palette that works for your data can be time consuming. Fortunately, Seaborn provides the color_palette() function to create your own custom sequential, categorical, or diverging palettes. Seaborn also makes it easy to view your palettes by using the palplot() function.\n",
    "\n",
    "In this exercise, you can experiment with creating different palettes.\n",
    "\n",
    "1. Create and display a Purples sequential palette containing 8 colors.\n",
    "2. Create and display a palette with 10 colors using the husl system.\n",
    "3. Create and display a diverging palette with 6 colors coolwarm."
   ]
  },
  {
   "cell_type": "code",
   "execution_count": null,
   "metadata": {},
   "outputs": [],
   "source": [
    "sns.palplot(sns.color_palette(\"Purples\", 8))\n",
    "plt.show()\n",
    "#############################################\n",
    "\n",
    "sns.palplot(sns.color_palette(\"husl\", 10))\n",
    "plt.show()\n",
    "#############################################\n",
    "\n",
    "sns.palplot(sns.color_palette(\"coolwarm\", 6))\n",
    "plt.show()"
   ]
  },
  {
   "cell_type": "markdown",
   "metadata": {},
   "source": [
    "## Using matplotlib axes\n",
    "Seaborn uses matplotlib as the underlying library for creating plots. Most of the time, you can use the Seaborn API to modify your visualizations but sometimes it is helpful to use matplotlib's functions to customize your plots. The most important object in this case is matplotlib's axes.\n",
    "\n",
    "Once you have an axes object, you can perform a lot of customization of your plot.\n",
    "\n",
    "In these examples, the US HUD data is loaded in the dataframe df and all libraries are imported.\n",
    "\n",
    "1. Use plt.subplots() to create a axes and figure objects.\n",
    "2. Plot a distplot of column fmr_3 on the axes.\n",
    "3. Set a more useful label on the x axis of \"3 Bedroom Fair Market Rent\"."
   ]
  },
  {
   "cell_type": "code",
   "execution_count": null,
   "metadata": {},
   "outputs": [],
   "source": [
    "# Create a figure and axes\n",
    "fig, ax = plt.subplots()\n",
    "\n",
    "# Plot the distribution of data\n",
    "sns.distplot(df['fmr_3'], ax=ax)\n",
    "\n",
    "# Create a more descriptive x axis label\n",
    "ax.set(xlabel=\"3 Bedroom Fair Market Rent\")\n",
    "\n",
    "# Show the plot\n",
    "plt.show()"
   ]
  },
  {
   "cell_type": "markdown",
   "metadata": {},
   "source": [
    "## Additional plot customizations\n",
    "The matplotlib API supports many common customizations such as labeling axes, adding titles, and setting limits. Let's complete another customization exercise.\n",
    "\n",
    "1. Create a distplot of the fmr_1 column.\n",
    "2. Modify the x axis label to say \"1 Bedroom Fair Market Rent\".\n",
    "3. Change the x axis limits to be between 100 and 1500.\n",
    "4. Add a descriptive title of \"US Rent\" to the plot."
   ]
  },
  {
   "cell_type": "code",
   "execution_count": null,
   "metadata": {},
   "outputs": [],
   "source": [
    "# Create a figure and axes\n",
    "fig, ax = plt.subplots()\n",
    "\n",
    "# Plot the distribution of 1 bedroom rents\n",
    "sns.distplot(df['fmr_1'], ax=ax)\n",
    "\n",
    "# Modify the properties of the plot\n",
    "ax.set(xlabel=\"1 Bedroom Fair Market Rent\",\n",
    "       xlim=(100,1500),\n",
    "       title=\"US Rent\")\n",
    "\n",
    "# Display the plot\n",
    "plt.show()"
   ]
  },
  {
   "cell_type": "markdown",
   "metadata": {},
   "source": [
    "## Adding annotations\n",
    "Each of the enhancements we have covered can be combined together. In the next exercise, we can annotate our distribution plot to include lines that show the mean and median rent prices.\n",
    "\n",
    "For this example, the palette has been changed to bright using sns.set_palette()\n",
    "\n",
    "1. Create a figure and axes.\n",
    "2. Plot the fmr_1 column distribution.\n",
    "3. Add a vertical line using axvline for the median and mean of the values which are already defined."
   ]
  },
  {
   "cell_type": "code",
   "execution_count": null,
   "metadata": {},
   "outputs": [],
   "source": [
    "# Create a figure and axes. Then plot the data\n",
    "fig, ax = plt.subplots()\n",
    "sns.distplot(df['fmr_1'], ax=ax)\n",
    "\n",
    "# Customize the labels and limits\n",
    "ax.set(xlabel=\"1 Bedroom Fair Market Rent\", xlim=(100,1500), title=\"US Rent\")\n",
    "\n",
    "# Add vertical lines for the median and mean\n",
    "ax.axvline(x=median, color='m', label='Median', linestyle='--', linewidth=2)\n",
    "ax.axvline(x=mean, color='b', label='Mean', linestyle='-', linewidth=2)\n",
    "\n",
    "# Show the legend and plot the data\n",
    "ax.legend()\n",
    "plt.show()"
   ]
  },
  {
   "cell_type": "markdown",
   "metadata": {},
   "source": [
    "## Multiple plots\n",
    "For the final exercise we will plot a comparison of the fair market rents for 1-bedroom and 2-bedroom apartments.\n",
    "\n",
    "1. Create two axes objects, ax0 and ax1.\n",
    "2. Plot fmr_1 on ax0 and fmr_2 on ax1.\n",
    "3. Display the plots side by side."
   ]
  },
  {
   "cell_type": "code",
   "execution_count": null,
   "metadata": {},
   "outputs": [],
   "source": [
    "# Create a plot with 1 row and 2 columns that share the y axis label\n",
    "fig, (ax0, ax1) = plt.subplots(nrows=1, ncols=2, sharey=True)\n",
    "\n",
    "# Plot the distribution of 1 bedroom apartments on ax0\n",
    "sns.distplot(df['fmr_1'], ax=ax0)\n",
    "ax0.set(xlabel=\"1 Bedroom Fair Market Rent\", xlim=(100,1500))\n",
    "\n",
    "# Plot the distribution of 2 bedroom apartments on ax1\n",
    "sns.distplot(df['fmr_2'], ax=ax1)\n",
    "ax1.set(xlabel=\"2 Bedroom Fair Market Rent\", xlim=(100,1500))\n",
    "\n",
    "# Display the plot\n",
    "plt.show()"
   ]
  }
 ],
 "metadata": {
  "kernelspec": {
   "display_name": "Python 3",
   "language": "python",
   "name": "python3"
  },
  "language_info": {
   "codemirror_mode": {
    "name": "ipython",
    "version": 3
   },
   "file_extension": ".py",
   "mimetype": "text/x-python",
   "name": "python",
   "nbconvert_exporter": "python",
   "pygments_lexer": "ipython3",
   "version": "3.7.1"
  }
 },
 "nbformat": 4,
 "nbformat_minor": 2
}
